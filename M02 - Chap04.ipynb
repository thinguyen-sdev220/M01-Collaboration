{
 "cells": [
  {
   "cell_type": "code",
   "execution_count": 1,
   "id": "64a9a4f9-52b6-48c3-b31f-0e99495c535b",
   "metadata": {},
   "outputs": [
    {
     "name": "stdout",
     "output_type": "stream",
     "text": [
      "too high\n"
     ]
    }
   ],
   "source": [
    "\"\"\"\n",
    "File: M02 - Chap04.ipynb\n",
    "Author: Thi Nguyen\n",
    "Date: 03/28/2024\n",
    "Description: Assignment with If\n",
    "\"\"\"\n",
    "\n",
    "# 4.1 Choose any numbers between 1 and 10 and assign them to Secret Number and Guess Number. Then compare these 2 numbers\n",
    "\n",
    "# Assigning values to variables\n",
    "secret = 5\n",
    "guess = 10\n",
    "\n",
    "# Make comparision between secret number and guess number\n",
    "if guess < secret:\n",
    "    print(\"too low\")\n",
    "elif guess > secret:\n",
    "    print(\"too high\")\n",
    "else:\n",
    "    print(\"just right\")    \n"
   ]
  },
  {
   "cell_type": "code",
   "execution_count": 3,
   "id": "ed4c6ed7-ebb0-4d9b-9293-b34c073e6521",
   "metadata": {},
   "outputs": [
    {
     "name": "stdout",
     "output_type": "stream",
     "text": [
      "pea\n"
     ]
    }
   ],
   "source": [
    "# (4.2 Assign True or False to the variables small and green.\n",
    "#      Write some if/else statements to print which of these matches those choices: cherry, pea, watermelon, pumpkin)\n",
    "\n",
    "# Assigning values to variables\n",
    "small = True\n",
    "green = True\n",
    "\n",
    "# Make comparision\n",
    "if small:\n",
    "    if green:\n",
    "        print(\"pea\")\n",
    "    else:\n",
    "        print(\"cherry\")\n",
    "else:\n",
    "    if green:\n",
    "        print(\"watermelon\")\n",
    "    else:\n",
    "        print(\"pumpkin\")\n"
   ]
  }
 ],
 "metadata": {
  "kernelspec": {
   "display_name": "Python 3 (ipykernel)",
   "language": "python",
   "name": "python3"
  },
  "language_info": {
   "codemirror_mode": {
    "name": "ipython",
    "version": 3
   },
   "file_extension": ".py",
   "mimetype": "text/x-python",
   "name": "python",
   "nbconvert_exporter": "python",
   "pygments_lexer": "ipython3",
   "version": "3.11.7"
  }
 },
 "nbformat": 4,
 "nbformat_minor": 5
}
