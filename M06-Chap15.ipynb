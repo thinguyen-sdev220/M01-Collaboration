{
 "cells": [
  {
   "cell_type": "markdown",
   "id": "bb7d74c5-31f1-4ad4-ac18-593a2868867e",
   "metadata": {},
   "source": [
    "Use multiprocessing to create three separate processes. Make each one wait a random number of seconds between zero and one, print the current time, and then exit."
   ]
  },
  {
   "cell_type": "code",
   "execution_count": 1,
   "id": "d953c8a2-8ff3-4de6-8a30-9dd394eecc90",
   "metadata": {},
   "outputs": [],
   "source": [
    "import multiprocessing\n",
    "import time\n",
    "import random\n",
    "from datetime import datetime\n",
    "\n",
    "def process_task():\n",
    "    # Generate a random wait time between 0 and 1 seconds\n",
    "    wait_time = random.random()\n",
    "    time.sleep(wait_time)\n",
    "    \n",
    "    # Print the current time\n",
    "    current_time = datetime.now().strftime(\"%Y-%m-%d %H:%M:%S\")\n",
    "    print(\"Current Time:\", current_time)\n",
    "    \n",
    "    # Exit the process\n",
    "    print(\"Exiting process\")\n",
    "\n",
    "if __name__ == \"__main__\":\n",
    "    # Create three separate processes\n",
    "    processes = []\n",
    "    for _ in range(3):\n",
    "        i = multiprocessing.Process(target=process_task)\n",
    "        processes.append(i)\n",
    "        i.start()\n",
    "    \n",
    "    # Wait for all processes to finish\n",
    "    for i in processes:\n",
    "        i.join()\n"
   ]
  }
 ],
 "metadata": {
  "kernelspec": {
   "display_name": "Python 3 (ipykernel)",
   "language": "python",
   "name": "python3"
  },
  "language_info": {
   "codemirror_mode": {
    "name": "ipython",
    "version": 3
   },
   "file_extension": ".py",
   "mimetype": "text/x-python",
   "name": "python",
   "nbconvert_exporter": "python",
   "pygments_lexer": "ipython3",
   "version": "3.11.7"
  }
 },
 "nbformat": 4,
 "nbformat_minor": 5
}
