{
 "cells": [
  {
   "cell_type": "markdown",
   "id": "4695c036-bb0c-4053-a1f6-1f6407ec1c11",
   "metadata": {},
   "source": [
    "13.1 Write the current date as a string to the text file today.txt"
   ]
  },
  {
   "cell_type": "code",
   "execution_count": 5,
   "id": "c6a4f56f-c965-4c6b-a2dc-936eac7f5694",
   "metadata": {},
   "outputs": [
    {
     "name": "stdout",
     "output_type": "stream",
     "text": [
      "2024-04-26\n"
     ]
    }
   ],
   "source": [
    "from datetime import datetime\n",
    "\n",
    "with open(\"today.txt\", \"w\") as file:\n",
    "    current_date = datetime.now().strftime(\"%Y-%m-%d\")\n",
    "    file.write(current_date)\n",
    "\n",
    "print(current_date)"
   ]
  },
  {
   "cell_type": "markdown",
   "id": "374edde7-508a-4147-8503-5252b8b0f899",
   "metadata": {},
   "source": [
    "13.2 Read the text file today.txt into the string today_string"
   ]
  },
  {
   "cell_type": "code",
   "execution_count": 4,
   "id": "9431df72-f1fb-4978-a1a6-1ea9069c8590",
   "metadata": {},
   "outputs": [
    {
     "name": "stdout",
     "output_type": "stream",
     "text": [
      "2024-04-26\n"
     ]
    }
   ],
   "source": [
    "from datetime import datetime\n",
    "\n",
    "with open(\"today.txt\", \"r\") as file:\n",
    "    today_string = file.read()\n",
    "\n",
    "print(today_string)"
   ]
  },
  {
   "cell_type": "markdown",
   "id": "a8b7a1c7-a043-4143-8748-3d21a65adb8f",
   "metadata": {},
   "source": [
    "13.3 Parse the date from today_string"
   ]
  },
  {
   "cell_type": "code",
   "execution_count": 3,
   "id": "ced1c4d7-0f2d-457d-8f71-c6045b6f15a6",
   "metadata": {},
   "outputs": [
    {
     "name": "stdout",
     "output_type": "stream",
     "text": [
      "Parsed Date: 2024-04-26 00:00:00\n"
     ]
    }
   ],
   "source": [
    "from datetime import datetime\n",
    "\n",
    "parsed_date = datetime.strptime(today_string, \"%Y-%m-%d\")\n",
    "\n",
    "print(\"Parsed Date:\", parsed_date)"
   ]
  }
 ],
 "metadata": {
  "kernelspec": {
   "display_name": "Python 3 (ipykernel)",
   "language": "python",
   "name": "python3"
  },
  "language_info": {
   "codemirror_mode": {
    "name": "ipython",
    "version": 3
   },
   "file_extension": ".py",
   "mimetype": "text/x-python",
   "name": "python",
   "nbconvert_exporter": "python",
   "pygments_lexer": "ipython3",
   "version": "3.11.7"
  }
 },
 "nbformat": 4,
 "nbformat_minor": 5
}
