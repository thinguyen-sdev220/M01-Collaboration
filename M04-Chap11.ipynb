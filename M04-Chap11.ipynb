{
 "cells": [
  {
   "cell_type": "markdown",
   "id": "323a66cd-fdd4-4292-94c6-04d278a4ca28",
   "metadata": {},
   "source": [
    "11.1 Create a file called zoo.py. In it, define a function called hours() that prints the string 'Open 9-5 daily'. Then, use the interactive interpreter to import the zoo module and call its hours() function.\n"
   ]
  },
  {
   "cell_type": "code",
   "execution_count": 1,
   "id": "253e9c99-8aef-415a-a53d-8244c251eb91",
   "metadata": {},
   "outputs": [
    {
     "name": "stdout",
     "output_type": "stream",
     "text": [
      "Open 9-5 daily\n"
     ]
    }
   ],
   "source": [
    "# Create hours() function as the content of the zoo.py file\n",
    "zoo_content = \"\"\"\n",
    "def hours():\n",
    "    print(\"Open 9-5 daily\")\n",
    "\"\"\"\n",
    "\n",
    "# Write the content to the zoo.py file\n",
    "with open(\"zoo.py\", \"w\") as file:\n",
    "    file.write(zoo_content)\n",
    "\n",
    "# Import the zoo module and call its hours() function\n",
    "import zoo\n",
    "zoo.hours()\n"
   ]
  },
  {
   "cell_type": "markdown",
   "id": "f2eeafc8-2c6c-482c-92a9-ec2ed2528858",
   "metadata": {},
   "source": [
    "1.2 In the interactive interpreter, import the zoo module as menagerie and call its hours() function."
   ]
  },
  {
   "cell_type": "code",
   "execution_count": 2,
   "id": "d291ac51-e948-4059-bf1d-b3347aa3dcf7",
   "metadata": {},
   "outputs": [
    {
     "name": "stdout",
     "output_type": "stream",
     "text": [
      "Open 9-5 daily\n"
     ]
    }
   ],
   "source": [
    "import zoo as menagerie\n",
    "menagerie.hours()"
   ]
  }
 ],
 "metadata": {
  "kernelspec": {
   "display_name": "Python 3 (ipykernel)",
   "language": "python",
   "name": "python3"
  },
  "language_info": {
   "codemirror_mode": {
    "name": "ipython",
    "version": 3
   },
   "file_extension": ".py",
   "mimetype": "text/x-python",
   "name": "python",
   "nbconvert_exporter": "python",
   "pygments_lexer": "ipython3",
   "version": "3.11.7"
  }
 },
 "nbformat": 4,
 "nbformat_minor": 5
}
