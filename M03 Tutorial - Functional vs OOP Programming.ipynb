{
 "cells": [
  {
   "cell_type": "markdown",
   "id": "b80f9c01-2295-4a3e-af48-bf840e965029",
   "metadata": {},
   "source": [
    "Given an array of size N containing only 0s, 1s, and 2s; sort the array in ascending order. Complete the function sort012() that takes an array arr and N as input parameters and sorts the array in-place."
   ]
  },
  {
   "cell_type": "code",
   "execution_count": 2,
   "id": "05e0f55d-0d7b-45ff-8d2a-ef4851f99ec6",
   "metadata": {},
   "outputs": [],
   "source": [
    "def sort012(arr, N):\n",
    "    # Initialize three points at low, mid, and high\n",
    "    low = 0\n",
    "    mid = 0\n",
    "    high = N - 1\n",
    "    \n",
    "    # While loop to use mid point going through low to high \n",
    "    while mid <= high:\n",
    "        if arr[mid] == 0:\n",
    "            # If mid point is 0, swap it with low\n",
    "            arr[low], arr[mid] = arr[mid], arr[low]\n",
    "            # Increase low and mid points\n",
    "            low += 1\n",
    "            mid += 1\n",
    "        elif arr[mid] == 1:\n",
    "            # If mid point is 1, no action is needed, just move mid forward\n",
    "            mid += 1\n",
    "        else:\n",
    "            # If mid point is 2, swap it with high\n",
    "            arr[mid], arr[high] = arr[high], arr[mid]\n",
    "            # Decrease the high point\n",
    "            high -= 1\n",
    "    \n",
    "    # Return the sorted array\n",
    "    return arr\n"
   ]
  },
  {
   "cell_type": "markdown",
   "id": "b23a450e-e425-4d7a-858d-ffc689fd68b2",
   "metadata": {},
   "source": [
    "Given a sorted array of size N and an integer K, find the position(0-based indexing) at which K is present in the array using binary search.\n",
    "Complete the function binarysearch() which takes arr[], N and K as input parameters and returns the index of K in the array. If K is not present in the array, return -1."
   ]
  },
  {
   "cell_type": "code",
   "execution_count": 4,
   "id": "3acbe028-b027-4171-a99d-1fcd2d33b705",
   "metadata": {},
   "outputs": [],
   "source": [
    "def binarysearch(arr, N, K):\n",
    "    # Initialize low and high points\n",
    "    low = 0\n",
    "    high = N - 1\n",
    "    \n",
    "    # Binary search loop\n",
    "    while low <= high:\n",
    "        # Calculate mid index\n",
    "        mid = (low + high) // 2\n",
    "        \n",
    "        # If K is found at mid, return mid\n",
    "        if arr[mid] == K:\n",
    "            return mid\n",
    "        \n",
    "        # If K is greater than the element at mid, search in the right half\n",
    "        elif arr[mid] < K:\n",
    "            low = mid + 1\n",
    "        # If K is smaller than the element at mid, search in the left half\n",
    "        else:\n",
    "            high = mid - 1\n",
    "    \n",
    "    # If K is not found, return -1\n",
    "    return -1\n",
    "\n"
   ]
  }
 ],
 "metadata": {
  "kernelspec": {
   "display_name": "Python 3 (ipykernel)",
   "language": "python",
   "name": "python3"
  },
  "language_info": {
   "codemirror_mode": {
    "name": "ipython",
    "version": 3
   },
   "file_extension": ".py",
   "mimetype": "text/x-python",
   "name": "python",
   "nbconvert_exporter": "python",
   "pygments_lexer": "ipython3",
   "version": "3.11.7"
  }
 },
 "nbformat": 4,
 "nbformat_minor": 5
}
