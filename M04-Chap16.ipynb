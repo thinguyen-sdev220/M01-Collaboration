{
 "cells": [
  {
   "cell_type": "markdown",
   "id": "80f320c3-21cf-4ca0-8950-73b12aee5b17",
   "metadata": {},
   "source": [
    "16.8 Use the sqlalchemy module to connect to the sqlite3 database books.db that you just made in exercise 16.4. As in 16.6, select and print the title column from the book table in alphabetical order"
   ]
  },
  {
   "cell_type": "markdown",
   "id": "53a2a8f8-be5b-4d82-b466-2f259943f103",
   "metadata": {},
   "source": [
    "To do 16.8, I'd do 16.4 to create a SQLite database called books.db and a table called books"
   ]
  },
  {
   "cell_type": "markdown",
   "id": "193ec7a4-4f2a-464d-8963-7069d19de18b",
   "metadata": {},
   "source": [
    "16.4 Use the sqlite3 module to create a SQLite database called books.db and a table called books with these fields: title (text), author (text), and year (integer)"
   ]
  },
  {
   "cell_type": "code",
   "execution_count": 5,
   "id": "76942985-b7f8-4fa4-93f8-cc07172ba4a3",
   "metadata": {},
   "outputs": [
    {
     "name": "stdout",
     "output_type": "stream",
     "text": [
      "Database 'books.db' and table 'books' created successfully.\n"
     ]
    }
   ],
   "source": [
    "import sqlite3\n",
    "\n",
    "# Connect to the SQLite database (create it if it doesn't exist)\n",
    "connection = sqlite3.connect('books.db')\n",
    "\n",
    "# Create a cursor object to execute SQL queries\n",
    "cursor = connection.cursor()\n",
    "\n",
    "# Create the books table\n",
    "cursor.execute('''\n",
    "    CREATE TABLE IF NOT EXISTS books (\n",
    "        title TEXT,\n",
    "        author TEXT,\n",
    "        year INTEGER\n",
    "    )\n",
    "''')\n",
    "\n",
    "# Commit the changes and close the connection\n",
    "connection.commit()\n",
    "connection.close()\n",
    "\n",
    "print(\"Database 'books.db' and table 'books' created successfully.\")\n"
   ]
  },
  {
   "cell_type": "markdown",
   "id": "41938c3c-3436-459c-a323-a9af6d7ac4b9",
   "metadata": {},
   "source": [
    "Use the sqlalchemy module to connect to the sqlite3 database books.db and select and print the title column from the book table in alphabetical order"
   ]
  },
  {
   "cell_type": "code",
   "execution_count": 7,
   "id": "7d558930-7c14-4129-8345-65940428e2ed",
   "metadata": {},
   "outputs": [
    {
     "name": "stdout",
     "output_type": "stream",
     "text": [
      "2024-04-09 19:38:36,147 INFO sqlalchemy.engine.Engine BEGIN (implicit)\n",
      "2024-04-09 19:38:36,147 INFO sqlalchemy.engine.Engine SELECT name FROM sqlite_master WHERE type='table' AND name NOT LIKE 'sqlite~_%' ESCAPE '~' ORDER BY name\n",
      "2024-04-09 19:38:36,147 INFO sqlalchemy.engine.Engine [raw sql] ()\n",
      "2024-04-09 19:38:36,162 INFO sqlalchemy.engine.Engine SELECT name FROM sqlite_temp_master WHERE type='table' AND name NOT LIKE 'sqlite~_%' ESCAPE '~' ORDER BY name\n",
      "2024-04-09 19:38:36,162 INFO sqlalchemy.engine.Engine [raw sql] ()\n",
      "2024-04-09 19:38:36,171 INFO sqlalchemy.engine.Engine PRAGMA main.table_xinfo(\"books\")\n",
      "2024-04-09 19:38:36,171 INFO sqlalchemy.engine.Engine [raw sql] ()\n",
      "2024-04-09 19:38:36,171 INFO sqlalchemy.engine.Engine SELECT sql FROM  (SELECT * FROM sqlite_master UNION ALL   SELECT * FROM sqlite_temp_master) WHERE name = ? AND type in ('table', 'view')\n",
      "2024-04-09 19:38:36,171 INFO sqlalchemy.engine.Engine [raw sql] ('books',)\n",
      "2024-04-09 19:38:36,171 INFO sqlalchemy.engine.Engine PRAGMA main.foreign_key_list(\"books\")\n",
      "2024-04-09 19:38:36,178 INFO sqlalchemy.engine.Engine [raw sql] ()\n",
      "2024-04-09 19:38:36,178 INFO sqlalchemy.engine.Engine PRAGMA temp.foreign_key_list(\"books\")\n",
      "2024-04-09 19:38:36,178 INFO sqlalchemy.engine.Engine [raw sql] ()\n",
      "2024-04-09 19:38:36,178 INFO sqlalchemy.engine.Engine SELECT sql FROM  (SELECT * FROM sqlite_master UNION ALL   SELECT * FROM sqlite_temp_master) WHERE name = ? AND type in ('table', 'view')\n",
      "2024-04-09 19:38:36,178 INFO sqlalchemy.engine.Engine [raw sql] ('books',)\n",
      "2024-04-09 19:38:36,178 INFO sqlalchemy.engine.Engine PRAGMA main.index_list(\"books\")\n",
      "2024-04-09 19:38:36,178 INFO sqlalchemy.engine.Engine [raw sql] ()\n",
      "2024-04-09 19:38:36,178 INFO sqlalchemy.engine.Engine PRAGMA temp.index_list(\"books\")\n",
      "2024-04-09 19:38:36,178 INFO sqlalchemy.engine.Engine [raw sql] ()\n",
      "2024-04-09 19:38:36,178 INFO sqlalchemy.engine.Engine PRAGMA main.table_info(\"books\")\n",
      "2024-04-09 19:38:36,178 INFO sqlalchemy.engine.Engine [raw sql] ()\n",
      "2024-04-09 19:38:36,194 INFO sqlalchemy.engine.Engine PRAGMA main.index_list(\"books\")\n",
      "2024-04-09 19:38:36,194 INFO sqlalchemy.engine.Engine [raw sql] ()\n",
      "2024-04-09 19:38:36,194 INFO sqlalchemy.engine.Engine PRAGMA temp.index_list(\"books\")\n",
      "2024-04-09 19:38:36,194 INFO sqlalchemy.engine.Engine [raw sql] ()\n",
      "2024-04-09 19:38:36,194 INFO sqlalchemy.engine.Engine PRAGMA main.table_info(\"books\")\n",
      "2024-04-09 19:38:36,194 INFO sqlalchemy.engine.Engine [raw sql] ()\n",
      "2024-04-09 19:38:36,194 INFO sqlalchemy.engine.Engine SELECT sql FROM  (SELECT * FROM sqlite_master UNION ALL   SELECT * FROM sqlite_temp_master) WHERE name = ? AND type in ('table', 'view')\n",
      "2024-04-09 19:38:36,194 INFO sqlalchemy.engine.Engine [raw sql] ('books',)\n",
      "2024-04-09 19:38:36,194 INFO sqlalchemy.engine.Engine ROLLBACK\n",
      "2024-04-09 19:38:36,194 INFO sqlalchemy.engine.Engine BEGIN (implicit)\n",
      "2024-04-09 19:38:36,209 INFO sqlalchemy.engine.Engine SELECT books.title, books.author, books.year \n",
      "FROM books ORDER BY books.title\n",
      "2024-04-09 19:38:36,209 INFO sqlalchemy.engine.Engine [generated in 0.00278s] ()\n",
      "2024-04-09 19:38:36,209 INFO sqlalchemy.engine.Engine ROLLBACK\n"
     ]
    }
   ],
   "source": [
    "from sqlalchemy import create_engine, MetaData, Table\n",
    "\n",
    "# Create an engine to connect to the SQLite database\n",
    "engine = create_engine('sqlite:///books.db', echo=True)\n",
    "\n",
    "# Create a metadata object\n",
    "metadata = MetaData()\n",
    "\n",
    "# Reflect the table from the database\n",
    "metadata.reflect(bind=engine)\n",
    "\n",
    "# Access the reflected table\n",
    "books_table = metadata.tables['books']\n",
    "\n",
    "# Execute a select query to retrieve the title column in alphabetical order\n",
    "select_query = books_table.select().order_by(books_table.c.title)\n",
    "\n",
    "# Execute the query and fetch the results\n",
    "with engine.connect() as connection:\n",
    "    result = connection.execute(select_query)\n",
    "    # Iterate over the results and print the title column\n",
    "    for row in result:\n",
    "        print(row['title'])\n"
   ]
  }
 ],
 "metadata": {
  "kernelspec": {
   "display_name": "Python 3 (ipykernel)",
   "language": "python",
   "name": "python3"
  },
  "language_info": {
   "codemirror_mode": {
    "name": "ipython",
    "version": 3
   },
   "file_extension": ".py",
   "mimetype": "text/x-python",
   "name": "python",
   "nbconvert_exporter": "python",
   "pygments_lexer": "ipython3",
   "version": "3.11.7"
  }
 },
 "nbformat": 4,
 "nbformat_minor": 5
}
